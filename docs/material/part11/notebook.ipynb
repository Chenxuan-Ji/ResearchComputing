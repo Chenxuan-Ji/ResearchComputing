{
 "cells": [
  {
   "cell_type": "markdown",
   "metadata": {},
   "source": [
    "# Essential packages\n",
    "\n",
    "The following packages are your bread and butter. We show some important functionalities here. \n",
    "\n",
    "## Numpy\n",
    "\n",
    "For array manipulations, linear algebra, interpolation and basic statistics."
   ]
  },
  {
   "cell_type": "code",
   "execution_count": 2,
   "metadata": {},
   "outputs": [],
   "source": [
    "import numpy as np"
   ]
  },
  {
   "cell_type": "markdown",
   "metadata": {},
   "source": [
    "### Define arrays"
   ]
  },
  {
   "cell_type": "code",
   "execution_count": 3,
   "metadata": {},
   "outputs": [],
   "source": [
    "# Using np.array() to create from a list\n",
    "arr1 = np.array([1, 2, 3, 4, 5])\n",
    "\n",
    "# Using np.arange() to create sequential array\n",
    "arr2 = np.arange(0, 10, 2)  # Creates [0, 2, 4, 6, 8]\n",
    "\n",
    "# Using np.zeros() and np.ones() with specific data types\n",
    "arr3 = np.zeros(5, dtype=np.int32)  # Creates [0, 0, 0, 0, 0]\n",
    "arr4 = np.ones(3, dtype=np.float64)  # Creates [1., 1., 1.]\n",
    "\n",
    "# Creating arrays with specific data types\n",
    "arr5 = np.array([1, 2, 3], dtype=np.float32)  # 32-bit floating point\n",
    "arr6 = np.array([True, False, True], dtype=np.bool_)  # Boolean\n",
    "arr7 = np.array(['a', 'b', 'c'], dtype=str)  # String array\n",
    "\n",
    "# Creating 2D arrays with specific types\n",
    "arr8 = np.zeros((2, 3), dtype=np.complex128)  # 2x3 array of complex numbers\n",
    "arr9 = np.ones((3, 2), dtype=np.uint8)  # 3x2 array of unsigned 8-bit integers\n",
    "\n"
   ]
  },
  {
   "cell_type": "code",
   "execution_count": 4,
   "metadata": {},
   "outputs": [
    {
     "data": {
      "text/plain": [
       "array([[1, 1],\n",
       "       [1, 1],\n",
       "       [1, 1]], dtype=uint8)"
      ]
     },
     "execution_count": 4,
     "metadata": {},
     "output_type": "execute_result"
    }
   ],
   "source": [
    "arr9"
   ]
  },
  {
   "cell_type": "markdown",
   "metadata": {},
   "source": [
    "### Operate on arrays"
   ]
  },
  {
   "cell_type": "code",
   "execution_count": 5,
   "metadata": {},
   "outputs": [],
   "source": [
    "# Basic arithmetic operations (vectorized)\n",
    "a = np.array([1, 2, 3, 4])\n",
    "b = np.array([10, 20, 30, 40])\n",
    "\n",
    "# Element-wise operations\n",
    "sum_arr = a + b  # [11, 22, 33, 44]\n",
    "diff_arr = b - a  # [9, 18, 27, 36] \n",
    "prod_arr = a * b  # [10, 40, 90, 160]\n",
    "div_arr = b / a  # [10., 10., 10., 10.]\n",
    "\n",
    "# Broadcasting with scalars\n",
    "scaled = a * 2  # [2, 4, 6, 8]\n",
    "offset = a + 100  # [101, 102, 103, 104]\n",
    "\n",
    "# Mathematical functions\n",
    "squares = np.square(a)  # [1, 4, 9, 16]\n",
    "sqrt = np.sqrt(a)  # [1., 1.41421356, 1.73205081, 2.]\n",
    "exp = np.exp(a)  # [2.71828183, 7.3890561, 20.08553692, 54.59815003]\n",
    "\n",
    "# Aggregation operations\n",
    "total = np.sum(a)  # 10\n",
    "mean = np.mean(a)  # 2.5\n",
    "maximum = np.max(a)  # 4\n",
    "minimum = np.min(a)  # 1\n",
    "\n",
    "# Boolean operations\n",
    "mask = a > 2  # [False, False, True, True]\n",
    "filtered = a[mask]  # [3, 4]\n"
   ]
  },
  {
   "cell_type": "code",
   "execution_count": 6,
   "metadata": {},
   "outputs": [],
   "source": [
    "# np.where example - returns indices where condition is met\n",
    "arr = np.array([1, 2, 3, 4, 5, 4, 3, 2, 1])\n",
    "\n",
    "# Find indices where array is greater than 3\n",
    "indices = np.where(arr > 3)  # Returns (array([3, 4, 5]),)\n",
    "\n",
    "# Can also use where as a conditional selector\n",
    "result = np.where(arr > 3, arr, 0)  # Replace values <= 3 with 0\n",
    "# result: [0, 0, 0, 4, 5, 4, 0, 0, 0]\n"
   ]
  },
  {
   "cell_type": "code",
   "execution_count": 12,
   "metadata": {},
   "outputs": [
    {
     "name": "stdout",
     "output_type": "stream",
     "text": [
      "Temperatures in Celsius:\n",
      "[[20 22 21 23]\n",
      " [25 24 26 25]\n",
      " [18 19 17 20]]\n",
      "\n",
      "Temperatures in Fahrenheit:\n",
      "[[68.  71.6 69.8 73.4]\n",
      " [77.  75.2 78.8 77. ]\n",
      " [64.4 66.2 62.6 68. ]]\n"
     ]
    }
   ],
   "source": [
    "# Broadcasting example: Temperature conversion for multiple cities\n",
    "# Suppose we have daily temperatures for 3 cities over 4 days in Celsius\n",
    "temps_celsius = np.array([\n",
    "    [20, 22, 21, 23],  # City 1\n",
    "    [25, 24, 26, 25],  # City 2\n",
    "    [18, 19, 17, 20]   # City 3\n",
    "])\n",
    "\n",
    "# To convert to Fahrenheit, we need to multiply by 9/5 and add 32\n",
    "# Broadcasting allows us to perform this operation on the entire array at once\n",
    "temps_fahrenheit = (temps_celsius * 9/5) + 32\n",
    "\n",
    "print(\"Temperatures in Celsius:\")\n",
    "print(temps_celsius)\n",
    "print(\"\\nTemperatures in Fahrenheit:\")\n",
    "print(temps_fahrenheit)\n"
   ]
  },
  {
   "cell_type": "code",
   "execution_count": 17,
   "metadata": {},
   "outputs": [
    {
     "name": "stdout",
     "output_type": "stream",
     "text": [
      "\n",
      "City means:\n",
      "[[21.5]\n",
      " [25. ]\n",
      " [18.5]]\n"
     ]
    }
   ],
   "source": [
    "\n",
    "# We can also calculate daily temperature deviations from each city's mean\n",
    "city_means = np.mean(temps_celsius, axis=1, keepdims=True)  # Shape: (3,1)\n",
    "print(\"\\nCity means:\")\n",
    "print(city_means)\n"
   ]
  },
  {
   "cell_type": "code",
   "execution_count": 10,
   "metadata": {},
   "outputs": [
    {
     "name": "stdout",
     "output_type": "stream",
     "text": [
      "\n",
      "Temperature deviations from city means:\n",
      "[[-1.5  0.5 -0.5  1.5]\n",
      " [ 0.  -1.   1.   0. ]\n",
      " [-0.5  0.5 -1.5  1.5]]\n"
     ]
    }
   ],
   "source": [
    "# Broadcasting automatically expands city_means to match temps_celsius shape\n",
    "temp_deviations = temps_celsius - city_means\n",
    "\n",
    "print(\"\\nTemperature deviations from city means:\")\n",
    "print(temp_deviations)"
   ]
  },
  {
   "cell_type": "markdown",
   "metadata": {},
   "source": [
    "### Array shapes\n",
    "\n",
    "If an array `A` has a shape `(m, n)`:\n",
    "\n",
    "- `m` represents the number of rows.\n",
    "- `n` represents the number of columns.\n",
    "\n",
    "For example:\n"
   ]
  },
  {
   "cell_type": "code",
   "execution_count": 11,
   "metadata": {},
   "outputs": [
    {
     "name": "stdout",
     "output_type": "stream",
     "text": [
      "(2, 3)\n"
     ]
    }
   ],
   "source": [
    "A = np.array([\n",
    "    [1, 2, 3],\n",
    "    [4, 5, 6]\n",
    "])\n",
    "print(A.shape) \n"
   ]
  },
  {
   "cell_type": "markdown",
   "metadata": {},
   "source": [
    "For higher-dimensional arrays, the shape follows a similar convention, going from outer to inner dimensions:\n",
    "\n",
    "- In a 3D array, `(depth, rows, columns)`, the first dimension (depth) can represent layers or \"pages.\"\n",
    "- In a 4D array, it would be `(batch, depth, rows, columns)`, commonly seen in applications like image processing or deep learning.\n"
   ]
  },
  {
   "cell_type": "markdown",
   "metadata": {},
   "source": [
    "### Newaxis\n",
    "\n",
    "Using `np.newaxis` (or `None` indexing) allows you to reshape arrays to match a required format.\n",
    "\n",
    "For instance, suppose you have a **grayscale image** as a 2D array, where each element represents the brightness of a pixel. Let’s say it’s a 3x4 image:"
   ]
  },
  {
   "cell_type": "code",
   "execution_count": 1,
   "metadata": {},
   "outputs": [
    {
     "data": {
      "text/plain": [
       "(3, 4)"
      ]
     },
     "execution_count": 1,
     "metadata": {},
     "output_type": "execute_result"
    }
   ],
   "source": [
    "import numpy as np\n",
    "\n",
    "image = np.array([\n",
    "    [200, 202, 198, 205],\n",
    "    [197, 203, 204, 200],\n",
    "    [195, 202, 201, 199]\n",
    "])  \n",
    "\n",
    "image.shape\n"
   ]
  },
  {
   "cell_type": "code",
   "execution_count": 2,
   "metadata": {},
   "outputs": [
    {
     "data": {
      "image/png": "[encoded data removed]",
      "text/plain": [
       "<Figure size 800x600 with 2 Axes>"
      ]
     },
     "metadata": {},
     "output_type": "display_data"
    }
   ],
   "source": [
    "import matplotlib.pyplot as plt\n",
    "\n",
    "plt.figure(figsize=(8, 6))\n",
    "plt.imshow(image, cmap='gray')\n",
    "plt.colorbar(label='Pixel Value')\n",
    "plt.title('Grayscale Image')\n",
    "plt.xlabel('Width')\n",
    "plt.ylabel('Height')\n",
    "plt.show()\n"
   ]
  },
  {
   "cell_type": "markdown",
   "metadata": {},
   "source": [
    "\n",
    "The shape `(3, 4)` means the image has 3 rows (height) and 4 columns (width). \n",
    "\n",
    "\n",
    "Say that in our PyTorch ML project we have adopted the convention that the first dimension is the channel dimension (which is the Pytorch convention for image processing). So we would want to add a **channel** dimension as the first dimension to reshape this original `(3, 4)` image into a `(1, 3, 4)` grayscale image.\n",
    "\n",
    "\n",
    "We can use `np.newaxis` to add this extra dimension in NumPy before converting to a PyTorch tensor:\n"
   ]
  },
  {
   "cell_type": "code",
   "execution_count": 3,
   "metadata": {},
   "outputs": [
    {
     "name": "stdout",
     "output_type": "stream",
     "text": [
      "(1, 3, 4)\n"
     ]
    }
   ],
   "source": [
    "image_3d = image[np.newaxis, :, :]\n",
    "print(image_3d.shape)  # Output: (1, 3, 4)"
   ]
  },
  {
   "cell_type": "markdown",
   "metadata": {},
   "source": [
    "Now, the shape `(1, 3, 4)` represents:\n",
    "- **1 channel** (indicating grayscale),\n",
    "- **3 rows** (height of the image),\n",
    "- **4 columns** (width of the image).\n",
    "\n"
   ]
  },
  {
   "cell_type": "markdown",
   "metadata": {},
   "source": [
    "Finally, you can convert this NumPy array to a PyTorch tensor and get going with our ML stuff:"
   ]
  },
  {
   "cell_type": "code",
   "execution_count": 4,
   "metadata": {},
   "outputs": [
    {
     "name": "stdout",
     "output_type": "stream",
     "text": [
      "torch.Size([1, 3, 4])\n"
     ]
    }
   ],
   "source": [
    "import torch\n",
    "\n",
    "image_tensor = torch.from_numpy(image_3d)\n",
    "print(image_tensor.shape)  # Output: torch.Size([1, 3, 4])\n"
   ]
  },
  {
   "cell_type": "markdown",
   "metadata": {},
   "source": [
    "\n",
    "\n",
    "\n",
    "\n",
    "## Scipy \n",
    "\n",
    "\n",
    "## Pandas \n",
    "\n",
    "\n",
    "## Scikit-learn\n",
    "\n",
    "\n",
    "## Matplotlib\n",
    "\n",
    "\n",
    "## Seaborn"
   ]
  }
 ],
 "metadata": {
  "kernelspec": {
   "display_name": "MphilC124 (Python 3.12)",
   "language": "python",
   "name": "mphilc124"
  },
  "language_info": {
   "codemirror_mode": {
    "name": "ipython",
    "version": 3
   },
   "file_extension": ".py",
   "mimetype": "text/x-python",
   "name": "python",
   "nbconvert_exporter": "python",
   "pygments_lexer": "ipython3",
   "version": "3.12.7"
  }
 },
 "nbformat": 4,
 "nbformat_minor": 2
}
