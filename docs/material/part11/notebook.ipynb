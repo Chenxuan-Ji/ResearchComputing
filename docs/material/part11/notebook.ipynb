{
 "cells": [
  {
   "cell_type": "markdown",
   "metadata": {},
   "source": [
    "# Essential packages\n",
    "\n",
    "The following packages are your bread and butter. We show some important functionalities here. \n",
    "\n",
    "## Numpy\n",
    "\n",
    "For array manipulations, linear algebra, interpolation and basic statistics."
   ]
  },
  {
   "cell_type": "code",
   "execution_count": 2,
   "metadata": {},
   "outputs": [],
   "source": [
    "import numpy as np"
   ]
  },
  {
   "cell_type": "markdown",
   "metadata": {},
   "source": [
    "### Define arrays"
   ]
  },
  {
   "cell_type": "code",
   "execution_count": 3,
   "metadata": {},
   "outputs": [],
   "source": [
    "# Using np.array() to create from a list\n",
    "arr1 = np.array([1, 2, 3, 4, 5])\n",
    "\n",
    "# Using np.arange() to create sequential array\n",
    "arr2 = np.arange(0, 10, 2)  # Creates [0, 2, 4, 6, 8]\n",
    "\n",
    "# Using np.zeros() and np.ones() with specific data types\n",
    "arr3 = np.zeros(5, dtype=np.int32)  # Creates [0, 0, 0, 0, 0]\n",
    "arr4 = np.ones(3, dtype=np.float64)  # Creates [1., 1., 1.]\n",
    "\n",
    "# Creating arrays with specific data types\n",
    "arr5 = np.array([1, 2, 3], dtype=np.float32)  # 32-bit floating point\n",
    "arr6 = np.array([True, False, True], dtype=np.bool_)  # Boolean\n",
    "arr7 = np.array(['a', 'b', 'c'], dtype=str)  # String array\n",
    "\n",
    "# Creating 2D arrays with specific types\n",
    "arr8 = np.zeros((2, 3), dtype=np.complex128)  # 2x3 array of complex numbers\n",
    "arr9 = np.ones((3, 2), dtype=np.uint8)  # 3x2 array of unsigned 8-bit integers\n",
    "\n"
   ]
  },
  {
   "cell_type": "code",
   "execution_count": 4,
   "metadata": {},
   "outputs": [
    {
     "data": {
      "text/plain": [
       "array([[1, 1],\n",
       "       [1, 1],\n",
       "       [1, 1]], dtype=uint8)"
      ]
     },
     "execution_count": 4,
     "metadata": {},
     "output_type": "execute_result"
    }
   ],
   "source": [
    "arr9"
   ]
  },
  {
   "cell_type": "markdown",
   "metadata": {},
   "source": [
    "In this part of the course (C1), you don't need to worry too much about  data types. \n",
    "This will be covered next term in C2. \n",
    "\n",
    "Hence, we will often just use `np.array()`, `np.zeros()` and `np.ones()` without specifying the data type.\n",
    "For instance:"
   ]
  },
  {
   "cell_type": "code",
   "execution_count": 8,
   "metadata": {},
   "outputs": [
    {
     "name": "stdout",
     "output_type": "stream",
     "text": [
      "[1 2 3]\n",
      "[0. 0. 0. 0. 0.]\n",
      "[1. 1. 1.]\n"
     ]
    }
   ],
   "source": [
    "print(np.array([1, 2, 3]))\n",
    "print(np.zeros(5))\n",
    "print(np.ones(3))\n"
   ]
  },
  {
   "cell_type": "markdown",
   "metadata": {},
   "source": [
    "### Operate on arrays"
   ]
  },
  {
   "cell_type": "code",
   "execution_count": 5,
   "metadata": {},
   "outputs": [],
   "source": [
    "# Basic arithmetic operations (vectorized)\n",
    "a = np.array([1, 2, 3, 4])\n",
    "b = np.array([10, 20, 30, 40])\n",
    "\n",
    "# Element-wise operations\n",
    "sum_arr = a + b  # [11, 22, 33, 44]\n",
    "diff_arr = b - a  # [9, 18, 27, 36] \n",
    "prod_arr = a * b  # [10, 40, 90, 160]\n",
    "div_arr = b / a  # [10., 10., 10., 10.]\n",
    "\n",
    "# Broadcasting with scalars\n",
    "scaled = a * 2  # [2, 4, 6, 8]\n",
    "offset = a + 100  # [101, 102, 103, 104]\n",
    "\n",
    "# Mathematical functions\n",
    "squares = np.square(a)  # [1, 4, 9, 16]\n",
    "sqrt = np.sqrt(a)  # [1., 1.41421356, 1.73205081, 2.]\n",
    "exp = np.exp(a)  # [2.71828183, 7.3890561, 20.08553692, 54.59815003]\n",
    "\n",
    "# Aggregation operations\n",
    "total = np.sum(a)  # 10\n",
    "mean = np.mean(a)  # 2.5\n",
    "maximum = np.max(a)  # 4\n",
    "minimum = np.min(a)  # 1\n",
    "\n",
    "# Boolean operations\n",
    "mask = a > 2  # [False, False, True, True]\n",
    "filtered = a[mask]  # [3, 4]\n"
   ]
  },
  {
   "cell_type": "code",
   "execution_count": 6,
   "metadata": {},
   "outputs": [],
   "source": [
    "# np.where example - returns indices where condition is met\n",
    "arr = np.array([1, 2, 3, 4, 5, 4, 3, 2, 1])\n",
    "\n",
    "# Find indices where array is greater than 3\n",
    "indices = np.where(arr > 3)  # Returns (array([3, 4, 5]),)\n",
    "\n",
    "# Can also use where as a conditional selector\n",
    "result = np.where(arr > 3, arr, 0)  # Replace values <= 3 with 0\n",
    "# result: [0, 0, 0, 4, 5, 4, 0, 0, 0]\n"
   ]
  },
  {
   "cell_type": "code",
   "execution_count": 12,
   "metadata": {},
   "outputs": [
    {
     "name": "stdout",
     "output_type": "stream",
     "text": [
      "Temperatures in Celsius:\n",
      "[[20 22 21 23]\n",
      " [25 24 26 25]\n",
      " [18 19 17 20]]\n",
      "\n",
      "Temperatures in Fahrenheit:\n",
      "[[68.  71.6 69.8 73.4]\n",
      " [77.  75.2 78.8 77. ]\n",
      " [64.4 66.2 62.6 68. ]]\n"
     ]
    }
   ],
   "source": [
    "# Broadcasting example: Temperature conversion for multiple cities\n",
    "# Suppose we have daily temperatures for 3 cities over 4 days in Celsius\n",
    "temps_celsius = np.array([\n",
    "    [20, 22, 21, 23],  # City 1\n",
    "    [25, 24, 26, 25],  # City 2\n",
    "    [18, 19, 17, 20]   # City 3\n",
    "])\n",
    "\n",
    "# To convert to Fahrenheit, we need to multiply by 9/5 and add 32\n",
    "# Broadcasting allows us to perform this operation on the entire array at once\n",
    "temps_fahrenheit = (temps_celsius * 9/5) + 32\n",
    "\n",
    "print(\"Temperatures in Celsius:\")\n",
    "print(temps_celsius)\n",
    "print(\"\\nTemperatures in Fahrenheit:\")\n",
    "print(temps_fahrenheit)\n"
   ]
  },
  {
   "cell_type": "code",
   "execution_count": 17,
   "metadata": {},
   "outputs": [
    {
     "name": "stdout",
     "output_type": "stream",
     "text": [
      "\n",
      "City means:\n",
      "[[21.5]\n",
      " [25. ]\n",
      " [18.5]]\n"
     ]
    }
   ],
   "source": [
    "\n",
    "# We can also calculate daily temperature deviations from each city's mean\n",
    "city_means = np.mean(temps_celsius, axis=1, keepdims=True)  # Shape: (3,1)\n",
    "print(\"\\nCity means:\")\n",
    "print(city_means)\n"
   ]
  },
  {
   "cell_type": "code",
   "execution_count": 10,
   "metadata": {},
   "outputs": [
    {
     "name": "stdout",
     "output_type": "stream",
     "text": [
      "\n",
      "Temperature deviations from city means:\n",
      "[[-1.5  0.5 -0.5  1.5]\n",
      " [ 0.  -1.   1.   0. ]\n",
      " [-0.5  0.5 -1.5  1.5]]\n"
     ]
    }
   ],
   "source": [
    "# Broadcasting automatically expands city_means to match temps_celsius shape\n",
    "temp_deviations = temps_celsius - city_means\n",
    "\n",
    "print(\"\\nTemperature deviations from city means:\")\n",
    "print(temp_deviations)"
   ]
  },
  {
   "cell_type": "markdown",
   "metadata": {},
   "source": [
    "### Array shapes\n",
    "\n",
    "If an array `A` has a shape `(m, n)`:\n",
    "\n",
    "- `m` represents the number of rows.\n",
    "- `n` represents the number of columns.\n",
    "\n",
    "For example:\n"
   ]
  },
  {
   "cell_type": "code",
   "execution_count": 11,
   "metadata": {},
   "outputs": [
    {
     "name": "stdout",
     "output_type": "stream",
     "text": [
      "(2, 3)\n"
     ]
    }
   ],
   "source": [
    "A = np.array([\n",
    "    [1, 2, 3],\n",
    "    [4, 5, 6]\n",
    "])\n",
    "print(A.shape) \n"
   ]
  },
  {
   "cell_type": "markdown",
   "metadata": {},
   "source": [
    "For higher-dimensional arrays, the shape follows a similar convention, going from outer to inner dimensions:\n",
    "\n",
    "- In a 3D array, `(depth, rows, columns)`, the first dimension (depth) can represent layers or \"pages.\"\n",
    "- In a 4D array, it would be `(batch, depth, rows, columns)`, commonly seen in applications like image processing or deep learning.\n"
   ]
  },
  {
   "cell_type": "markdown",
   "metadata": {},
   "source": [
    "### Newaxis\n",
    "\n",
    "Using `np.newaxis` (or `None` indexing) allows you to reshape arrays to match a required format.\n",
    "\n",
    "For instance, suppose you have a **grayscale image** as a 2D array, where each element represents the brightness of a pixel. Let’s say it’s a 3x4 image:"
   ]
  },
  {
   "cell_type": "code",
   "execution_count": 1,
   "metadata": {},
   "outputs": [
    {
     "data": {
      "text/plain": [
       "(3, 4)"
      ]
     },
     "execution_count": 1,
     "metadata": {},
     "output_type": "execute_result"
    }
   ],
   "source": [
    "import numpy as np\n",
    "\n",
    "image = np.array([\n",
    "    [200, 202, 198, 205],\n",
    "    [197, 203, 204, 200],\n",
    "    [195, 202, 201, 199]\n",
    "])  \n",
    "\n",
    "image.shape\n"
   ]
  },
  {
   "cell_type": "code",
   "execution_count": 2,
   "metadata": {},
   "outputs": [
    {
     "data": {
      "image/png": "[encoded data removed]",
      "text/plain": [
       "<Figure size 800x600 with 2 Axes>"
      ]
     },
     "metadata": {},
     "output_type": "display_data"
    }
   ],
   "source": [
    "import matplotlib.pyplot as plt\n",
    "\n",
    "plt.figure(figsize=(8, 6))\n",
    "plt.imshow(image, cmap='gray')\n",
    "plt.colorbar(label='Pixel Value')\n",
    "plt.title('Grayscale Image')\n",
    "plt.xlabel('Width')\n",
    "plt.ylabel('Height')\n",
    "plt.show()\n"
   ]
  },
  {
   "cell_type": "markdown",
   "metadata": {},
   "source": [
    "\n",
    "The shape `(3, 4)` means the image has 3 rows (height) and 4 columns (width). \n",
    "\n",
    "\n",
    "Say that in our PyTorch ML project we have adopted the convention that the first dimension is the channel dimension (which is the Pytorch convention for image processing). So we would want to add a **channel** dimension as the first dimension to reshape this original `(3, 4)` image into a `(1, 3, 4)` grayscale image.\n",
    "\n",
    "\n",
    "We can use `np.newaxis` to add this extra dimension in NumPy before converting to a PyTorch tensor:\n"
   ]
  },
  {
   "cell_type": "code",
   "execution_count": 3,
   "metadata": {},
   "outputs": [
    {
     "name": "stdout",
     "output_type": "stream",
     "text": [
      "(1, 3, 4)\n"
     ]
    }
   ],
   "source": [
    "image_3d = image[np.newaxis, :, :]\n",
    "print(image_3d.shape)  # Output: (1, 3, 4)"
   ]
  },
  {
   "cell_type": "markdown",
   "metadata": {},
   "source": [
    "Now, the shape `(1, 3, 4)` represents:\n",
    "\n",
    "- **1 channel** (indicating grayscale),\n",
    "\n",
    "- **3 rows** (height of the image),\n",
    "\n",
    "- **4 columns** (width of the image).\n",
    "\n"
   ]
  },
  {
   "cell_type": "markdown",
   "metadata": {},
   "source": [
    "Finally, you can convert this NumPy array to a PyTorch tensor and get going with our ML stuff:"
   ]
  },
  {
   "cell_type": "code",
   "execution_count": 4,
   "metadata": {},
   "outputs": [
    {
     "name": "stdout",
     "output_type": "stream",
     "text": [
      "torch.Size([1, 3, 4])\n"
     ]
    }
   ],
   "source": [
    "import torch\n",
    "\n",
    "image_tensor = torch.from_numpy(image_3d)\n",
    "print(image_tensor.shape)  # Output: torch.Size([1, 3, 4])\n"
   ]
  },
  {
   "cell_type": "markdown",
   "metadata": {},
   "source": [
    "### Simple interpolation\n",
    "\n",
    "A very useful numpy function is `np.interp()`, to interpolate values in arrays."
   ]
  },
  {
   "cell_type": "code",
   "execution_count": 3,
   "metadata": {},
   "outputs": [
    {
     "name": "stdout",
     "output_type": "stream",
     "text": [
      "1.0\n"
     ]
    }
   ],
   "source": [
    "# Example of np.interp() - linear 1D interpolation\n",
    "x = np.array([0, 1, 2, 3, 4])  # Known x values\n",
    "y = np.array([0, 2, 4, 6, 8])  # Known y values\n",
    "\n",
    "# Points where we want to interpolate\n",
    "x_new = 0.5\n",
    "\n",
    "# Interpolate y values at x_new point\n",
    "y_new = np.interp(x_new, x, y)\n",
    "\n",
    "print(y_new)\n"
   ]
  },
  {
   "cell_type": "code",
   "execution_count": 4,
   "metadata": {},
   "outputs": [
    {
     "name": "stdout",
     "output_type": "stream",
     "text": [
      "x values: [0.  2.5 6. ]\n",
      "Interpolated y values: [-999.   25.  999.]\n"
     ]
    }
   ],
   "source": [
    "# Example of np.interp() with fill values\n",
    "x = np.array([1, 2, 3, 4, 5])\n",
    "y = np.array([10, 20, 30, 40, 50])\n",
    "\n",
    "# Points outside the x range\n",
    "x_new = np.array([0, 2.5, 6])\n",
    "\n",
    "# Interpolate with fill values -999 and 999 for points outside range\n",
    "y_new = np.interp(x_new, x, y, left=-999, right=999)\n",
    "\n",
    "print(\"x values:\", x_new)\n",
    "print(\"Interpolated y values:\", y_new)  # Will show -999 for x=0 and 999 for x=6"
   ]
  },
  {
   "cell_type": "markdown",
   "metadata": {},
   "source": [
    "### Random number generation\n",
    "\n",
    "\n",
    "\n",
    "Random floats:"
   ]
  },
  {
   "cell_type": "code",
   "execution_count": 5,
   "metadata": {},
   "outputs": [
    {
     "data": {
      "text/plain": [
       "0.7180328174572932"
      ]
     },
     "execution_count": 5,
     "metadata": {},
     "output_type": "execute_result"
    }
   ],
   "source": [
    "np.random.rand()"
   ]
  },
  {
   "cell_type": "markdown",
   "metadata": {},
   "source": [
    "Or of any shape:"
   ]
  },
  {
   "cell_type": "code",
   "execution_count": 6,
   "metadata": {},
   "outputs": [
    {
     "data": {
      "text/plain": [
       "array([[0.11386717, 0.91751388, 0.04063642, 0.13978831],\n",
       "       [0.2809471 , 0.41062093, 0.1899919 , 0.59523401],\n",
       "       [0.18907103, 0.71768755, 0.56104886, 0.79628566]])"
      ]
     },
     "execution_count": 6,
     "metadata": {},
     "output_type": "execute_result"
    }
   ],
   "source": [
    "np.random.rand(3, 4)"
   ]
  },
  {
   "cell_type": "markdown",
   "metadata": {},
   "source": [
    "Random integers:"
   ]
  },
  {
   "cell_type": "code",
   "execution_count": 7,
   "metadata": {},
   "outputs": [
    {
     "data": {
      "text/plain": [
       "array([[1, 8, 9, 7],\n",
       "       [8, 8, 2, 8],\n",
       "       [0, 2, 2, 8]])"
      ]
     },
     "execution_count": 7,
     "metadata": {},
     "output_type": "execute_result"
    }
   ],
   "source": [
    "# between 0 and 10, of shape (3, 4)\n",
    "np.random.randint(0, 10, size=(3, 4))"
   ]
  },
  {
   "cell_type": "markdown",
   "metadata": {},
   "source": [
    "Set a **random seed** (if you want to make the generated random numbers reproducible)\n",
    "That is, if you do twice you get the same random numbers."
   ]
  },
  {
   "cell_type": "code",
   "execution_count": 16,
   "metadata": {},
   "outputs": [],
   "source": [
    "np.random.seed(42)"
   ]
  },
  {
   "cell_type": "code",
   "execution_count": 17,
   "metadata": {},
   "outputs": [
    {
     "data": {
      "text/plain": [
       "(0.3745401188473625, 0.9507143064099162)"
      ]
     },
     "execution_count": 17,
     "metadata": {},
     "output_type": "execute_result"
    }
   ],
   "source": [
    "np.random.rand(), np.random.rand()\n"
   ]
  },
  {
   "cell_type": "code",
   "execution_count": 22,
   "metadata": {},
   "outputs": [
    {
     "data": {
      "text/plain": [
       "(0.11505456638977896, 0.6090665392794814)"
      ]
     },
     "execution_count": 22,
     "metadata": {},
     "output_type": "execute_result"
    }
   ],
   "source": [
    "np.random.seed(43)\n",
    "np.random.rand(), np.random.rand()\n",
    "\n"
   ]
  },
  {
   "cell_type": "markdown",
   "metadata": {},
   "source": [
    "Random numbers from normal distribution:"
   ]
  },
  {
   "cell_type": "code",
   "execution_count": 23,
   "metadata": {},
   "outputs": [
    {
     "data": {
      "text/plain": [
       "array([-0.37850311, -0.5349156 ,  0.85807335, -0.41300998,  0.49818858,\n",
       "        2.01019925,  1.26286154, -0.43921486, -0.34643789,  0.45531966,\n",
       "       -1.66866271, -0.8620855 ,  0.49291085, -0.1243134 ,  1.93513629,\n",
       "       -0.61844265, -1.04683899, -0.88961759,  0.01404054, -0.16082969,\n",
       "        2.23035965, -0.39911572,  0.05444456,  0.88418182, -0.10798056,\n",
       "        0.55560698,  0.39490664,  0.83720502, -1.40787817,  0.80784941,\n",
       "       -0.13828364,  0.18717859, -0.38665814,  1.65904873, -2.04706913,\n",
       "        1.39931699, -0.67900712,  1.52898513,  1.22121596,  1.01498852,\n",
       "        0.82812998,  2.26629271, -0.59495567, -0.58126954, -0.65589415,\n",
       "        0.92514885, -1.29916134,  1.01116687, -0.28844018, -1.06771307])"
      ]
     },
     "execution_count": 23,
     "metadata": {},
     "output_type": "execute_result"
    }
   ],
   "source": [
    "# from a normal distribution with mean 0 and standard deviation 1, of size 50\n",
    "np.random.normal(loc=0, scale=1, size=50)"
   ]
  },
  {
   "cell_type": "markdown",
   "metadata": {},
   "source": [
    "Random numbers from a uniform distribution:"
   ]
  },
  {
   "cell_type": "code",
   "execution_count": 24,
   "metadata": {},
   "outputs": [
    {
     "data": {
      "text/plain": [
       "array([0.31026953, 0.24339802, 0.58810404, 0.24534325, 0.74777061,\n",
       "       0.72014665, 0.69526087, 0.10274278, 0.94364243, 0.50333963,\n",
       "       0.89967362, 0.19857988, 0.59444919, 0.96540858, 0.99869825,\n",
       "       0.02416862, 0.48130333, 0.29142269, 0.06372057, 0.5696244 ,\n",
       "       0.00508328, 0.61127759, 0.87018148, 0.88360146, 0.95431948,\n",
       "       0.73986382, 0.18471296, 0.43467832, 0.8858995 , 0.25504628,\n",
       "       0.44331269, 0.61693698, 0.10335251, 0.49010966, 0.0447044 ,\n",
       "       0.31162747, 0.75203969, 0.71549909, 0.94155424, 0.77689537,\n",
       "       0.21522851, 0.90497118, 0.55226415, 0.84489789, 0.92248948,\n",
       "       0.82896128, 0.394198  , 0.59818814, 0.43269808, 0.69414714])"
      ]
     },
     "execution_count": 24,
     "metadata": {},
     "output_type": "execute_result"
    }
   ],
   "source": [
    "# between 0 and 1, of size 50\n",
    "np.random.uniform(low=0, high=1, size=50)\n"
   ]
  },
  {
   "cell_type": "markdown",
   "metadata": {},
   "source": [
    "Random numbers without replacement:"
   ]
  },
  {
   "cell_type": "code",
   "execution_count": 25,
   "metadata": {},
   "outputs": [
    {
     "data": {
      "text/plain": [
       "array([0, 1, 2, 3, 4, 5, 6, 7, 8, 9])"
      ]
     },
     "execution_count": 25,
     "metadata": {},
     "output_type": "execute_result"
    }
   ],
   "source": [
    "np.arange(10)"
   ]
  },
  {
   "cell_type": "code",
   "execution_count": 26,
   "metadata": {},
   "outputs": [
    {
     "data": {
      "text/plain": [
       "array([4, 2, 9, 5, 0])"
      ]
     },
     "execution_count": 26,
     "metadata": {},
     "output_type": "execute_result"
    }
   ],
   "source": [
    "# 5 numbers between 0 and 9, without replacement, i.e., no duplicates\n",
    "np.random.choice(np.arange(10), size=5, replace=False)\n"
   ]
  },
  {
   "cell_type": "markdown",
   "metadata": {},
   "source": [
    "### Basic matrix operations\n",
    "\n",
    "\n",
    "Define a matrix:\n"
   ]
  },
  {
   "cell_type": "code",
   "execution_count": 27,
   "metadata": {},
   "outputs": [
    {
     "data": {
      "text/plain": [
       "(array([[1, 2, 3],\n",
       "        [0, 1, 4],\n",
       "        [5, 6, 0]]),\n",
       " (3, 3))"
      ]
     },
     "execution_count": 27,
     "metadata": {},
     "output_type": "execute_result"
    }
   ],
   "source": [
    "# Define a 3x3 matrix\n",
    "A = np.array([[1, 2, 3],\n",
    "              [0, 1, 4],\n",
    "              [5, 6, 0]])\n",
    "\n",
    "A, A.shape"
   ]
  },
  {
   "cell_type": "markdown",
   "metadata": {},
   "source": [
    "Invert the matrix:"
   ]
  },
  {
   "cell_type": "code",
   "execution_count": 28,
   "metadata": {},
   "outputs": [
    {
     "name": "stdout",
     "output_type": "stream",
     "text": [
      "Inverse of A:\n",
      "[[-24.  18.   5.]\n",
      " [ 20. -15.  -4.]\n",
      " [ -5.   4.   1.]]\n"
     ]
    }
   ],
   "source": [
    "\n",
    "inverse_A = np.linalg.inv(A)\n",
    "print(\"Inverse of A:\")\n",
    "print(inverse_A)"
   ]
  },
  {
   "cell_type": "markdown",
   "metadata": {},
   "source": [
    "Multiply two matrices:"
   ]
  },
  {
   "cell_type": "code",
   "execution_count": 29,
   "metadata": {},
   "outputs": [
    {
     "data": {
      "text/plain": [
       "array([[ 1.00000000e+00, -3.55271368e-15, -1.42108547e-14],\n",
       "       [-2.66453526e-15,  1.00000000e+00,  0.00000000e+00],\n",
       "       [ 6.66133815e-16,  4.44089210e-16,  1.00000000e+00]])"
      ]
     },
     "execution_count": 29,
     "metadata": {},
     "output_type": "execute_result"
    }
   ],
   "source": [
    "inverse_A @ A"
   ]
  },
  {
   "cell_type": "markdown",
   "metadata": {},
   "source": [
    "We can also use `np.matmul()` which is what `@` uses:"
   ]
  },
  {
   "cell_type": "code",
   "execution_count": 30,
   "metadata": {},
   "outputs": [
    {
     "data": {
      "text/plain": [
       "array([[ 1.00000000e+00, -3.55271368e-15, -1.42108547e-14],\n",
       "       [-2.66453526e-15,  1.00000000e+00,  0.00000000e+00],\n",
       "       [ 6.66133815e-16,  4.44089210e-16,  1.00000000e+00]])"
      ]
     },
     "execution_count": 30,
     "metadata": {},
     "output_type": "execute_result"
    }
   ],
   "source": [
    "np.matmul(inverse_A, A)"
   ]
  },
  {
   "cell_type": "markdown",
   "metadata": {},
   "source": [
    "Or `np.dot()`:"
   ]
  },
  {
   "cell_type": "code",
   "execution_count": 31,
   "metadata": {},
   "outputs": [
    {
     "data": {
      "text/plain": [
       "array([[ 1.00000000e+00, -3.55271368e-15, -1.42108547e-14],\n",
       "       [-2.66453526e-15,  1.00000000e+00,  0.00000000e+00],\n",
       "       [ 6.66133815e-16,  4.44089210e-16,  1.00000000e+00]])"
      ]
     },
     "execution_count": 31,
     "metadata": {},
     "output_type": "execute_result"
    }
   ],
   "source": [
    "np.dot(inverse_A, A)"
   ]
  },
  {
   "cell_type": "markdown",
   "metadata": {},
   "source": [
    "Note that `np.dot` and `np.matmul` differ for higher-dimensional (more than 2) arrays.\n"
   ]
  },
  {
   "cell_type": "markdown",
   "metadata": {},
   "source": [
    "With `inverse_A @ A` we recover almost the identity matrix, but not quite, because of floating point precision issues."
   ]
  },
  {
   "cell_type": "markdown",
   "metadata": {},
   "source": [
    "Identity matrix:\n",
    "\n",
    "\"I\" pronounced \"eye\""
   ]
  },
  {
   "cell_type": "code",
   "execution_count": 32,
   "metadata": {},
   "outputs": [
    {
     "data": {
      "text/plain": [
       "array([[1., 0., 0.],\n",
       "       [0., 1., 0.],\n",
       "       [0., 0., 1.]])"
      ]
     },
     "execution_count": 32,
     "metadata": {},
     "output_type": "execute_result"
    }
   ],
   "source": [
    "np.eye(3)"
   ]
  },
  {
   "cell_type": "markdown",
   "metadata": {},
   "source": [
    "or `np.identity`:"
   ]
  },
  {
   "cell_type": "code",
   "execution_count": 33,
   "metadata": {},
   "outputs": [
    {
     "data": {
      "text/plain": [
       "array([[1., 0., 0.],\n",
       "       [0., 1., 0.],\n",
       "       [0., 0., 1.]])"
      ]
     },
     "execution_count": 33,
     "metadata": {},
     "output_type": "execute_result"
    }
   ],
   "source": [
    "np.identity(3)"
   ]
  },
  {
   "cell_type": "markdown",
   "metadata": {},
   "source": [
    "We can check that our previous inverse operation was correct by checking that `inverse_A @ A` is almost the identity matrix\n",
    "with a small tolerance corresponding to floating point precision:"
   ]
  },
  {
   "cell_type": "code",
   "execution_count": 34,
   "metadata": {},
   "outputs": [
    {
     "data": {
      "text/plain": [
       "True"
      ]
     },
     "execution_count": 34,
     "metadata": {},
     "output_type": "execute_result"
    }
   ],
   "source": [
    "np.allclose(inverse_A @ A, np.eye(3))"
   ]
  },
  {
   "cell_type": "markdown",
   "metadata": {},
   "source": [
    "`np.allclose` has two parameters:\n",
    "\n",
    "- `atol`: absolute tolerance, set to `1e-6` by default.\n",
    "\n",
    "- `rtol`: relative tolerance, set to `1e-5` by default.\n",
    "\n",
    "The condition for two numbers `a` and `b` to be considered \"close\" is:\n",
    "$$\n",
    "|a - b| \\leq \\text{atol} + \\text{rtol} \\times |b|\n",
    "$$\n",
    "\n",
    "`atol` controls the absolute difference allowed, while `rtol` controls the relative difference allowed.\n",
    "\n",
    "We can also check closeness with custom tolerances:"
   ]
  },
  {
   "cell_type": "code",
   "execution_count": 41,
   "metadata": {},
   "outputs": [
    {
     "name": "stdout",
     "output_type": "stream",
     "text": [
      "True\n"
     ]
    }
   ],
   "source": [
    "are_close = np.allclose(inverse_A @ A, np.identity(3), atol=1e-6, rtol=1e-5)\n",
    "print(are_close)\n"
   ]
  },
  {
   "cell_type": "markdown",
   "metadata": {},
   "source": [
    "## Scipy\n",
    "\n",
    "\n",
    "SciPy is pronounced \"Sigh Pie\", not \"Skeepy!\"\n",
    "\n",
    "It is like numpy, but with more functionality for scientific computing.\n",
    "\n",
    "\n",
    "\n",
    "\n",
    "### Interpolation\n",
    "\n",
    "In 1D:\n"
   ]
  },
  {
   "cell_type": "code",
   "execution_count": 35,
   "metadata": {},
   "outputs": [
    {
     "data": {
      "text/plain": [
       "array(0.34657359)"
      ]
     },
     "execution_count": 35,
     "metadata": {},
     "output_type": "execute_result"
    }
   ],
   "source": [
    "import numpy as np\n",
    "from scipy.interpolate import interp1d\n",
    "x = np.array([1, 2, 3, 4, 5])\n",
    "y = np.log(x)\n",
    "f = interp1d(x, y, kind='linear')  # x, y are data arrays\n",
    "\n",
    "x_new = 1.5\n",
    "y_new = f(x_new)\n",
    "y_new\n"
   ]
  },
  {
   "cell_type": "markdown",
   "metadata": {},
   "source": [
    "Can also operate on arrays:"
   ]
  },
  {
   "cell_type": "code",
   "execution_count": 38,
   "metadata": {},
   "outputs": [
    {
     "data": {
      "image/png": "[encoded data removed]",
      "text/plain": [
       "<Figure size 640x480 with 1 Axes>"
      ]
     },
     "metadata": {},
     "output_type": "display_data"
    }
   ],
   "source": [
    "x_new = np.linspace(1, 5, 10)\n",
    "\n",
    "import matplotlib.pyplot as plt\n",
    "plt.plot(x_new, f(x_new), 'o', label='Interpolated')\n",
    "xp = np.linspace(1,5,1000)\n",
    "yp = np.log(xp)\n",
    "plt.plot(xp,yp,ls='--',c='r')\n",
    "plt.plot(x, y, 'x', label='Data')\n",
    "plt.xlabel('x')\n",
    "plt.ylabel('y')\n",
    "plt.legend()\n",
    "plt.grid(which='both', alpha=0.5)\n",
    "plt.show()"
   ]
  },
  {
   "cell_type": "markdown",
   "metadata": {},
   "source": [
    "The x values don't need to be evenly spaced. \n",
    "\n",
    "However, the x values must be **monotonically increasing (sorted in ascending order)**.\n"
   ]
  },
  {
   "cell_type": "markdown",
   "metadata": {},
   "source": [
    "#### Regularly spaced data in 2D"
   ]
  },
  {
   "cell_type": "markdown",
   "metadata": {},
   "source": [
    "In 2D, on a regular grid, you can use `RectBivariateSpline` ([docs](https://docs.scipy.org/doc/scipy/reference/generated/scipy.interpolate.RectBivariateSpline.html)), which does bivariate spline approximation over a rectangular mesh.\n",
    "\n"
   ]
  },
  {
   "cell_type": "code",
   "execution_count": 40,
   "metadata": {},
   "outputs": [
    {
     "name": "stdout",
     "output_type": "stream",
     "text": [
      "X.shape, Y.shape: (5, 10) (5, 10)\n"
     ]
    }
   ],
   "source": [
    "import numpy as np\n",
    "from scipy.interpolate import RectBivariateSpline\n",
    "\n",
    "# Define the x and y coordinates\n",
    "x = np.linspace(0, 10, 10)\n",
    "y = np.linspace(-1, 1, 5)\n",
    "\n",
    "# Create a 2D grid for z values based on x and y\n",
    "X, Y = np.meshgrid(x, y)\n",
    "print(\"X.shape, Y.shape:\", X.shape, Y.shape)\n"
   ]
  },
  {
   "cell_type": "markdown",
   "metadata": {},
   "source": [
    "`np.meshgrid` creates 2D coordinate arrays from 1D arrays x and y.\n",
    "(It's not broadcasting - instead it explicitly creates two new arrays)\n",
    "\n",
    "- X has shape (5,10) and contains the x-coordinates repeated for each y value \n",
    "\n",
    "- Y has shape (5,10) and contains the y-coordinates repeated for each x value\n",
    "\n"
   ]
  },
  {
   "cell_type": "code",
   "execution_count": 41,
   "metadata": {},
   "outputs": [
    {
     "data": {
      "text/plain": [
       "(array([[ 0.        ,  1.11111111,  2.22222222,  3.33333333,  4.44444444,\n",
       "          5.55555556,  6.66666667,  7.77777778,  8.88888889, 10.        ],\n",
       "        [ 0.        ,  1.11111111,  2.22222222,  3.33333333,  4.44444444,\n",
       "          5.55555556,  6.66666667,  7.77777778,  8.88888889, 10.        ],\n",
       "        [ 0.        ,  1.11111111,  2.22222222,  3.33333333,  4.44444444,\n",
       "          5.55555556,  6.66666667,  7.77777778,  8.88888889, 10.        ],\n",
       "        [ 0.        ,  1.11111111,  2.22222222,  3.33333333,  4.44444444,\n",
       "          5.55555556,  6.66666667,  7.77777778,  8.88888889, 10.        ],\n",
       "        [ 0.        ,  1.11111111,  2.22222222,  3.33333333,  4.44444444,\n",
       "          5.55555556,  6.66666667,  7.77777778,  8.88888889, 10.        ]]),\n",
       " array([[-1. , -1. , -1. , -1. , -1. , -1. , -1. , -1. , -1. , -1. ],\n",
       "        [-0.5, -0.5, -0.5, -0.5, -0.5, -0.5, -0.5, -0.5, -0.5, -0.5],\n",
       "        [ 0. ,  0. ,  0. ,  0. ,  0. ,  0. ,  0. ,  0. ,  0. ,  0. ],\n",
       "        [ 0.5,  0.5,  0.5,  0.5,  0.5,  0.5,  0.5,  0.5,  0.5,  0.5],\n",
       "        [ 1. ,  1. ,  1. ,  1. ,  1. ,  1. ,  1. ,  1. ,  1. ,  1. ]]))"
      ]
     },
     "execution_count": 41,
     "metadata": {},
     "output_type": "execute_result"
    }
   ],
   "source": [
    "X,Y"
   ]
  },
  {
   "cell_type": "code",
   "execution_count": 42,
   "metadata": {},
   "outputs": [
    {
     "name": "stdout",
     "output_type": "stream",
     "text": [
      "z.shape: (5, 10) (10, 5)\n",
      "[[-3.14525554e-19 -3.14525554e-19 -3.14525554e-19 ...  5.06462359e-18\n",
      "   5.06462359e-18  5.06462359e-18]\n",
      " [ 6.41533305e-02  6.41533305e-02  6.41533305e-02 ...  6.41533305e-02\n",
      "   6.41533305e-02  6.41533305e-02]\n",
      " [ 1.24462421e-01  1.24462421e-01  1.24462421e-01 ...  1.24462421e-01\n",
      "   1.24462421e-01  1.24462421e-01]\n",
      " ...\n",
      " [-1.87678880e-01 -1.87678880e-01 -1.87678880e-01 ... -1.87678880e-01\n",
      "  -1.87678880e-01 -1.87678880e-01]\n",
      " [-2.41220441e-01 -2.41220441e-01 -2.41220441e-01 ... -2.41220441e-01\n",
      "  -2.41220441e-01 -2.41220441e-01]\n",
      " [-2.93935861e-01 -2.93935861e-01 -2.93935861e-01 ... -2.93935861e-01\n",
      "  -2.93935861e-01 -2.93935861e-01]]\n"
     ]
    }
   ],
   "source": [
    "#Define a 2D function on this grid, for fun:\n",
    "z = np.sin(X) * np.cos(Y)\n",
    "print(\"z.shape:\", z.shape, z.T.shape)  # Should print (5, 10), (10, 5)\n",
    "\n",
    "# Initialize the RectBivariateSpline with x, y, and the 2D array z\n",
    "f = RectBivariateSpline(x, y, z.T) # Note: Transpose z to match (len(x), len(y)), i.e. (10, 5)\n",
    "\n",
    "# Define new x and y points for interpolation\n",
    "new_x = np.linspace(0, 10, 100)\n",
    "new_y = np.linspace(-2, 2, 50)\n",
    "\n",
    "# Perform interpolation\n",
    "z_interp = f(new_x, new_y)\n",
    "\n",
    "# Output the interpolated values\n",
    "print(z_interp)\n"
   ]
  },
  {
   "cell_type": "code",
   "execution_count": 43,
   "metadata": {},
   "outputs": [
    {
     "name": "stdout",
     "output_type": "stream",
     "text": [
      "(5, 10) (50, 100)\n"
     ]
    }
   ],
   "source": [
    "print(z.shape, z_interp.T.shape)"
   ]
  },
  {
   "cell_type": "code",
   "execution_count": 111,
   "metadata": {},
   "outputs": [
    {
     "data": {
      "image/png": "[encoded data removed]",
      "text/plain": [
       "<Figure size 1200x500 with 4 Axes>"
      ]
     },
     "metadata": {},
     "output_type": "display_data"
    }
   ],
   "source": [
    "# Create figure with two subplots side by side\n",
    "fig, (ax1, ax2) = plt.subplots(1, 2, figsize=(12, 5))\n",
    "\n",
    "# Plot original grid\n",
    "im1 = ax1.pcolormesh(X, Y, z)\n",
    "ax1.set_title('Original Grid')\n",
    "plt.colorbar(im1, ax=ax1)\n",
    "\n",
    "# Create meshgrid for interpolated data\n",
    "X_new, Y_new = np.meshgrid(new_x, new_y)\n",
    "\n",
    "# Plot interpolated grid \n",
    "im2 = ax2.pcolormesh(X_new, Y_new, z_interp.T)\n",
    "ax2.set_title('Interpolated Grid')\n",
    "plt.colorbar(im2, ax=ax2)\n",
    "\n",
    "plt.tight_layout()\n",
    "plt.show()\n"
   ]
  },
  {
   "cell_type": "markdown",
   "metadata": {},
   "source": [
    "<div class=\"exercise-box\">\n",
    "**Exercise:** How does `RectBivariateSpline` deal with extrapolation? Show all relevant examples.\n",
    "</div>"
   ]
  },
  {
   "cell_type": "markdown",
   "metadata": {},
   "source": [
    "##### Irregularly spaced data in 2D\n",
    "\n",
    "`RectBivariateSpline` does not support irregularly spaced data.\n",
    "\n",
    "In this case we use `griddata` ([docs](https://docs.scipy.org/doc/scipy/reference/generated/scipy.interpolate.griddata.html)).\n"
   ]
  },
  {
   "cell_type": "code",
   "execution_count": 44,
   "metadata": {},
   "outputs": [
    {
     "data": {
      "image/png": "[encoded data removed]",
      "text/plain": [
       "<Figure size 640x480 with 2 Axes>"
      ]
     },
     "metadata": {},
     "output_type": "display_data"
    }
   ],
   "source": [
    "import numpy as np\n",
    "from scipy.interpolate import griddata\n",
    "import matplotlib.pyplot as plt\n",
    "\n",
    "# Irregularly spaced data points\n",
    "x = np.random.rand(100) * 10   # x-coordinates\n",
    "y = np.random.rand(100) * 10   # y-coordinates\n",
    "z = np.sin(x) * np.cos(y)      # Some function over x and y\n",
    "\n",
    "# Define a grid where you want to interpolate\n",
    "xi = np.linspace(0, 10, 50)\n",
    "yi = np.linspace(0, 10, 50)\n",
    "xi, yi = np.meshgrid(xi, yi)\n",
    "\n",
    "# Interpolate with griddata\n",
    "zi = griddata((x, y), z, (xi, yi), method='cubic')\n",
    "\n",
    "# Plot the interpolated data\n",
    "plt.pcolormesh(xi, yi, zi, shading='auto')\n",
    "plt.scatter(x, y, c=z, edgecolor='k')  # Show original points for reference\n",
    "plt.colorbar()\n",
    "plt.title(\"Interpolation with griddata on irregular points\")\n",
    "plt.show()\n"
   ]
  },
  {
   "cell_type": "markdown",
   "metadata": {},
   "source": [
    "#### Higher dimensional interpolation\n",
    "\n",
    "\n",
    "Because of the [**curse of dimensionality**](https://en.wikipedia.org/wiki/Curse_of_dimensionality), interpolation in higher dimensions is much more difficult.\n",
    "\n",
    "Options become very limited, and the memory requirements become enormous.\n",
    "\n",
    "For example a grid with 10 points per dimension in 10D has $10^{10}$ points. If you store floats, this is $10^{10} \\times 4$ bytes = 40 TB.\n",
    "\n",
    "\n",
    "In scipy, two methods are available in principle:\n",
    "\n",
    "- `RBFInterpolator` ([docs](https://docs.scipy.org/doc/scipy/reference/generated/scipy.interpolate.Rbf.html)) for [radial basis functions](https://en.wikipedia.org/wiki/Radial_basis_function).\n",
    "\n",
    "- `RegularGridInterpolator` ([docs](https://docs.scipy.org/doc/scipy/reference/generated/scipy.interpolate.RegularGridInterpolator.html)) for regular grids.\n",
    "\n",
    "But in practice, none of these will be good enough for high-dimensional and accurate interpolation.\n",
    "\n",
    "\n",
    "<div class=\"exercise-box\">\n",
    "**Exercise:** Extend the 2D interpolation examples to 3D with `RegularGridInterpolator` and `RBFInterpolator`. Then to 4D.\n",
    "\n",
    "Do some profiling of timing and memory per interpolator call.  Be careful, go step by step with small grids to make sure you don't push your computer too far.\n",
    "</div>\n",
    "\n",
    "\n",
    "As you will soon realize, if you have not already, is that deep neural networks have essentially solved the curse of dimensionality.\n",
    "This is one of the three pillars of the AI revolution we are witnessing. See [here](https://www.youtube.com/watch?v=0Uqnh-_MRB8) at 2:18, for [Marc Mézard](https://en.wikipedia.org/wiki/Marc_Mézard)'s perspective on this. \n",
    "\n"
   ]
  },
  {
   "cell_type": "markdown",
   "metadata": {},
   "source": [
    "### Root finding"
   ]
  },
  {
   "cell_type": "markdown",
   "metadata": {},
   "source": [
    "\n",
    "### Integration\n",
    " \n",
    "### Optimization\n",
    "\n",
    "### Linear Algebra\n",
    " \n",
    "### Statistics\n",
    "\n",
    "### Signal Processing\n",
    "\n"
   ]
  },
  {
   "cell_type": "markdown",
   "metadata": {},
   "source": [
    "\n",
    "## Pandas \n",
    "\n",
    "\n",
    "## Scikit-learn\n",
    "\n",
    "\n",
    "## Matplotlib\n",
    "\n",
    "\n",
    "## Seaborn"
   ]
  }
 ],
 "metadata": {
  "kernelspec": {
   "display_name": "Python 3 (ipykernel)",
   "language": "python",
   "name": "python3"
  },
  "language_info": {
   "codemirror_mode": {
    "name": "ipython",
    "version": 3
   },
   "file_extension": ".py",
   "mimetype": "text/x-python",
   "name": "python",
   "nbconvert_exporter": "python",
   "pygments_lexer": "ipython3",
   "version": "3.9.13"
  },
  "widgets": {
   "application/vnd.jupyter.widget-state+json": {
    "state": {},
    "version_major": 2,
    "version_minor": 0
   }
  }
 },
 "nbformat": 4,
 "nbformat_minor": 4
}
