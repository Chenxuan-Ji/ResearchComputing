{
 "cells": [
  {
   "cell_type": "markdown",
   "metadata": {},
   "source": [
    "# Continuous Integration\n",
    "\n",
    "\n",
    "\n",
    "\n",
    "## Versioning\n",
    "\n",
    "\n",
    "Versioning for python packages is handled automatically. We do it with `setuptools_scm` and the version is automatically written \n",
    "to `<package_folder>/version.py`.\n",
    "\n",
    "Relevant configuration in the `pyproject.toml` file is:\n",
    "\n",
    "```toml\n",
    "[tool.setuptools_scm]\n",
    "version_scheme = \"post-release\"\n",
    "local_scheme = \"no-local-version\"\n",
    "write_to = \"<package_folder>/version.py\"  # Where to write the dynamic version\n",
    "```\n",
    "\n",
    "With this configuration, when you make changes and build the package, the version is automatically updated\n",
    "and increments as `0.0.0.post1`, `0.0.0.post2`, etc. for each build that has changed compared to the previous one.\n",
    "\n",
    "To increment other parts of the version, you tag with a version number using `git`. \n",
    "\n",
    "For example, \n",
    "\n",
    "```bash\n",
    " git tag v0.0.1\n",
    "```\n",
    "\n",
    "will update the version to `0.0.1` (you dont need to worry about the `post` part).\n",
    "\n",
    "To push the tags to the remote repository, you run\n",
    "\n",
    "```bash\n",
    "git push --tags\n",
    "```\n",
    "\n",
    "and you can check they are there on the GitHub, like at [this page](https://github.com/borisbolliet/company_package/tags).\n",
    "\n"
   ]
  }
 ],
 "metadata": {
  "kernelspec": {
   "display_name": "base",
   "language": "python",
   "name": "python3"
  },
  "language_info": {
   "codemirror_mode": {
    "name": "ipython",
    "version": 3
   },
   "file_extension": ".py",
   "mimetype": "text/x-python",
   "name": "python",
   "nbconvert_exporter": "python",
   "pygments_lexer": "ipython3",
   "version": "3.9.13"
  }
 },
 "nbformat": 4,
 "nbformat_minor": 2
}
